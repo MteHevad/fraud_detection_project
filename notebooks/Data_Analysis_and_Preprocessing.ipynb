{
  "cells": [
    {
      "cell_type": "code",
      "source": [
        "# Section 1: Import Libraries\n",
        "import pandas as pd  # Data manipulation\n",
        "import numpy as np   # Numerical operations\n",
        "import matplotlib.pyplot as plt  # Data visualization\n",
        "import seaborn as sns  # Statistical plots\n",
        "from google.colab import files  # Manual file uploads\n",
        "from datetime import datetime  # Handling date and time"
      ],
      "metadata": {
        "id": "DYAWmviaV9z3"
      },
      "execution_count": 12,
      "outputs": []
    },
    {
      "cell_type": "code",
      "source": [
        "# Section 2: Data Upload and Loading\n",
        "# Upload Fraud Data and IP Address Data\n",
        "print(\"Upload 'Fraud_Data.csv' and 'IpAddress_to_Country.csv':\")\n",
        "uploaded_files = files.upload()"
      ],
      "metadata": {
        "colab": {
          "base_uri": "https://localhost:8080/",
          "height": 125
        },
        "id": "-P3elGKqWKeG",
        "outputId": "2c835e65-7433-4c23-bacb-3f133cbd8ccf"
      },
      "execution_count": 15,
      "outputs": [
        {
          "output_type": "stream",
          "name": "stdout",
          "text": [
            "Upload 'Fraud_Data.csv' and 'IpAddress_to_Country.csv':\n"
          ]
        },
        {
          "output_type": "display_data",
          "data": {
            "text/plain": [
              "<IPython.core.display.HTML object>"
            ],
            "text/html": [
              "\n",
              "     <input type=\"file\" id=\"files-fc7fecb3-ed94-422e-93e9-0e9002b2c6c6\" name=\"files[]\" multiple disabled\n",
              "        style=\"border:none\" />\n",
              "     <output id=\"result-fc7fecb3-ed94-422e-93e9-0e9002b2c6c6\">\n",
              "      Upload widget is only available when the cell has been executed in the\n",
              "      current browser session. Please rerun this cell to enable.\n",
              "      </output>\n",
              "      <script>// Copyright 2017 Google LLC\n",
              "//\n",
              "// Licensed under the Apache License, Version 2.0 (the \"License\");\n",
              "// you may not use this file except in compliance with the License.\n",
              "// You may obtain a copy of the License at\n",
              "//\n",
              "//      http://www.apache.org/licenses/LICENSE-2.0\n",
              "//\n",
              "// Unless required by applicable law or agreed to in writing, software\n",
              "// distributed under the License is distributed on an \"AS IS\" BASIS,\n",
              "// WITHOUT WARRANTIES OR CONDITIONS OF ANY KIND, either express or implied.\n",
              "// See the License for the specific language governing permissions and\n",
              "// limitations under the License.\n",
              "\n",
              "/**\n",
              " * @fileoverview Helpers for google.colab Python module.\n",
              " */\n",
              "(function(scope) {\n",
              "function span(text, styleAttributes = {}) {\n",
              "  const element = document.createElement('span');\n",
              "  element.textContent = text;\n",
              "  for (const key of Object.keys(styleAttributes)) {\n",
              "    element.style[key] = styleAttributes[key];\n",
              "  }\n",
              "  return element;\n",
              "}\n",
              "\n",
              "// Max number of bytes which will be uploaded at a time.\n",
              "const MAX_PAYLOAD_SIZE = 100 * 1024;\n",
              "\n",
              "function _uploadFiles(inputId, outputId) {\n",
              "  const steps = uploadFilesStep(inputId, outputId);\n",
              "  const outputElement = document.getElementById(outputId);\n",
              "  // Cache steps on the outputElement to make it available for the next call\n",
              "  // to uploadFilesContinue from Python.\n",
              "  outputElement.steps = steps;\n",
              "\n",
              "  return _uploadFilesContinue(outputId);\n",
              "}\n",
              "\n",
              "// This is roughly an async generator (not supported in the browser yet),\n",
              "// where there are multiple asynchronous steps and the Python side is going\n",
              "// to poll for completion of each step.\n",
              "// This uses a Promise to block the python side on completion of each step,\n",
              "// then passes the result of the previous step as the input to the next step.\n",
              "function _uploadFilesContinue(outputId) {\n",
              "  const outputElement = document.getElementById(outputId);\n",
              "  const steps = outputElement.steps;\n",
              "\n",
              "  const next = steps.next(outputElement.lastPromiseValue);\n",
              "  return Promise.resolve(next.value.promise).then((value) => {\n",
              "    // Cache the last promise value to make it available to the next\n",
              "    // step of the generator.\n",
              "    outputElement.lastPromiseValue = value;\n",
              "    return next.value.response;\n",
              "  });\n",
              "}\n",
              "\n",
              "/**\n",
              " * Generator function which is called between each async step of the upload\n",
              " * process.\n",
              " * @param {string} inputId Element ID of the input file picker element.\n",
              " * @param {string} outputId Element ID of the output display.\n",
              " * @return {!Iterable<!Object>} Iterable of next steps.\n",
              " */\n",
              "function* uploadFilesStep(inputId, outputId) {\n",
              "  const inputElement = document.getElementById(inputId);\n",
              "  inputElement.disabled = false;\n",
              "\n",
              "  const outputElement = document.getElementById(outputId);\n",
              "  outputElement.innerHTML = '';\n",
              "\n",
              "  const pickedPromise = new Promise((resolve) => {\n",
              "    inputElement.addEventListener('change', (e) => {\n",
              "      resolve(e.target.files);\n",
              "    });\n",
              "  });\n",
              "\n",
              "  const cancel = document.createElement('button');\n",
              "  inputElement.parentElement.appendChild(cancel);\n",
              "  cancel.textContent = 'Cancel upload';\n",
              "  const cancelPromise = new Promise((resolve) => {\n",
              "    cancel.onclick = () => {\n",
              "      resolve(null);\n",
              "    };\n",
              "  });\n",
              "\n",
              "  // Wait for the user to pick the files.\n",
              "  const files = yield {\n",
              "    promise: Promise.race([pickedPromise, cancelPromise]),\n",
              "    response: {\n",
              "      action: 'starting',\n",
              "    }\n",
              "  };\n",
              "\n",
              "  cancel.remove();\n",
              "\n",
              "  // Disable the input element since further picks are not allowed.\n",
              "  inputElement.disabled = true;\n",
              "\n",
              "  if (!files) {\n",
              "    return {\n",
              "      response: {\n",
              "        action: 'complete',\n",
              "      }\n",
              "    };\n",
              "  }\n",
              "\n",
              "  for (const file of files) {\n",
              "    const li = document.createElement('li');\n",
              "    li.append(span(file.name, {fontWeight: 'bold'}));\n",
              "    li.append(span(\n",
              "        `(${file.type || 'n/a'}) - ${file.size} bytes, ` +\n",
              "        `last modified: ${\n",
              "            file.lastModifiedDate ? file.lastModifiedDate.toLocaleDateString() :\n",
              "                                    'n/a'} - `));\n",
              "    const percent = span('0% done');\n",
              "    li.appendChild(percent);\n",
              "\n",
              "    outputElement.appendChild(li);\n",
              "\n",
              "    const fileDataPromise = new Promise((resolve) => {\n",
              "      const reader = new FileReader();\n",
              "      reader.onload = (e) => {\n",
              "        resolve(e.target.result);\n",
              "      };\n",
              "      reader.readAsArrayBuffer(file);\n",
              "    });\n",
              "    // Wait for the data to be ready.\n",
              "    let fileData = yield {\n",
              "      promise: fileDataPromise,\n",
              "      response: {\n",
              "        action: 'continue',\n",
              "      }\n",
              "    };\n",
              "\n",
              "    // Use a chunked sending to avoid message size limits. See b/62115660.\n",
              "    let position = 0;\n",
              "    do {\n",
              "      const length = Math.min(fileData.byteLength - position, MAX_PAYLOAD_SIZE);\n",
              "      const chunk = new Uint8Array(fileData, position, length);\n",
              "      position += length;\n",
              "\n",
              "      const base64 = btoa(String.fromCharCode.apply(null, chunk));\n",
              "      yield {\n",
              "        response: {\n",
              "          action: 'append',\n",
              "          file: file.name,\n",
              "          data: base64,\n",
              "        },\n",
              "      };\n",
              "\n",
              "      let percentDone = fileData.byteLength === 0 ?\n",
              "          100 :\n",
              "          Math.round((position / fileData.byteLength) * 100);\n",
              "      percent.textContent = `${percentDone}% done`;\n",
              "\n",
              "    } while (position < fileData.byteLength);\n",
              "  }\n",
              "\n",
              "  // All done.\n",
              "  yield {\n",
              "    response: {\n",
              "      action: 'complete',\n",
              "    }\n",
              "  };\n",
              "}\n",
              "\n",
              "scope.google = scope.google || {};\n",
              "scope.google.colab = scope.google.colab || {};\n",
              "scope.google.colab._files = {\n",
              "  _uploadFiles,\n",
              "  _uploadFilesContinue,\n",
              "};\n",
              "})(self);\n",
              "</script> "
            ]
          },
          "metadata": {}
        },
        {
          "output_type": "stream",
          "name": "stdout",
          "text": [
            "Saving Fraud_Data.csv to Fraud_Data (1).csv\n",
            "Saving IpAddress_to_Country.csv to IpAddress_to_Country (1).csv\n"
          ]
        }
      ]
    },
    {
      "cell_type": "code",
      "source": [
        "# Load data into pandas DataFrames\n",
        "fraud_data = pd.read_csv('Fraud_Data.csv')\n",
        "ip_data = pd.read_csv('IpAddress_to_Country.csv')"
      ],
      "metadata": {
        "id": "yqVSEAz8apoV"
      },
      "execution_count": 16,
      "outputs": []
    },
    {
      "cell_type": "code",
      "source": [
        "# Display the first few rows of both datasets\n",
        "print(\"\\nSample Fraud Data:\")\n",
        "print(fraud_data.head())\n",
        "print(\"\\nSample IP Data:\")\n",
        "print(ip_data.head())"
      ],
      "metadata": {
        "colab": {
          "base_uri": "https://localhost:8080/"
        },
        "id": "mctf5i7DaqkG",
        "outputId": "b46215f9-b897-433b-ea6e-04ef5aadc060"
      },
      "execution_count": 20,
      "outputs": [
        {
          "output_type": "stream",
          "name": "stdout",
          "text": [
            "\n",
            "Sample Fraud Data:\n",
            "   user_id          signup_time        purchase_time  purchase_value  \\\n",
            "0    22058  2015-02-24 22:55:49  2015-04-18 02:47:11              34   \n",
            "1   333320  2015-06-07 20:39:50  2015-06-08 01:38:54              16   \n",
            "2     1359  2015-01-01 18:52:44  2015-01-01 18:52:45              15   \n",
            "3   150084  2015-04-28 21:13:25  2015-05-04 13:54:50              44   \n",
            "4   221365  2015-07-21 07:09:52  2015-09-09 18:40:53              39   \n",
            "\n",
            "       device_id source browser sex  age    ip_address  class  \n",
            "0  QVPSPJUOCKZAR    SEO  Chrome   M   39  7.327584e+08      0  \n",
            "1  EOGFQPIZPYXFZ    Ads  Chrome   F   53  3.503114e+08      0  \n",
            "2  YSSKYOSJHPPLJ    SEO   Opera   M   53  2.621474e+09      1  \n",
            "3  ATGTXKYKUDUQN    SEO  Safari   M   41  3.840542e+09      0  \n",
            "4  NAUITBZFJKHWW    Ads  Safari   M   45  4.155831e+08      0  \n",
            "\n",
            "Sample IP Data:\n",
            "   lower_bound_ip_address  upper_bound_ip_address    country\n",
            "0              16777216.0                16777471  Australia\n",
            "1              16777472.0                16777727      China\n",
            "2              16777728.0                16778239      China\n",
            "3              16778240.0                16779263  Australia\n",
            "4              16779264.0                16781311      China\n"
          ]
        }
      ]
    },
    {
      "cell_type": "code",
      "source": [
        "# Section 3: Handle Missing Values\n",
        "# Check for missing values in both datasets\n",
        "print(\"\\nMissing Values in Fraud Data:\")\n",
        "print(fraud_data.isnull().sum())\n",
        "\n",
        "print(\"\\nMissing Values in IP Data:\")\n",
        "print(ip_data.isnull().sum())"
      ],
      "metadata": {
        "colab": {
          "base_uri": "https://localhost:8080/"
        },
        "id": "YOTEaAssllqC",
        "outputId": "cfe1eeaa-bad2-4c5c-bff3-7a953e6bc220"
      },
      "execution_count": 41,
      "outputs": [
        {
          "output_type": "stream",
          "name": "stdout",
          "text": [
            "\n",
            "Missing Values in Fraud Data:\n",
            "user_id           0\n",
            "signup_time       0\n",
            "purchase_time     0\n",
            "purchase_value    0\n",
            "device_id         0\n",
            "source            0\n",
            "browser           0\n",
            "sex               0\n",
            "age               0\n",
            "ip_address        0\n",
            "class             0\n",
            "dtype: int64\n",
            "\n",
            "Missing Values in IP Data:\n",
            "lower_bound_ip_address    0\n",
            "upper_bound_ip_address    0\n",
            "country                   0\n",
            "dtype: int64\n"
          ]
        }
      ]
    },
    {
      "cell_type": "code",
      "source": [
        "# Fill missing values in fraud data with median for numerical columns\n",
        "fraud_data_filled = fraud_data.fillna(fraud_data.median(numeric_only=True))"
      ],
      "metadata": {
        "id": "FVfTz2vllqAU"
      },
      "execution_count": 42,
      "outputs": []
    },
    {
      "cell_type": "code",
      "source": [
        "# Section 4: Data Cleaning\n",
        "# Remove duplicates in fraud data\n",
        "fraud_data_cleaned = fraud_data_filled.drop_duplicates()"
      ],
      "metadata": {
        "id": "HVu_oU-zltE7"
      },
      "execution_count": 43,
      "outputs": []
    },
    {
      "cell_type": "code",
      "source": [
        "# Correct Data Types\n",
        "fraud_data_cleaned.columns = fraud_data_cleaned.columns.str.strip()"
      ],
      "metadata": {
        "id": "ZSLbQHoYlxfb"
      },
      "execution_count": 44,
      "outputs": []
    },
    {
      "cell_type": "code",
      "source": [
        "# Convert 'purchase_time' and 'signup_time' to datetime\n",
        "fraud_data_cleaned['purchase_time'] = pd.to_datetime(fraud_data_cleaned['purchase_time'], errors='coerce')\n",
        "fraud_data_cleaned['signup_time'] = pd.to_datetime(fraud_data_cleaned['signup_time'], errors='coerce')"
      ],
      "metadata": {
        "id": "A_RbDUL2l0KT"
      },
      "execution_count": 45,
      "outputs": []
    },
    {
      "cell_type": "code",
      "source": [
        "# Section 5: Exploratory Data Analysis (EDA)\n",
        "# Check columns in Fraud Data\n",
        "print(\"\\nColumns in Fraud Data:\")\n",
        "print(fraud_data_cleaned.columns)"
      ],
      "metadata": {
        "colab": {
          "base_uri": "https://localhost:8080/"
        },
        "id": "5lQVT7sol3NR",
        "outputId": "71ff0168-680a-437e-fbcd-32c167e62aa6"
      },
      "execution_count": 46,
      "outputs": [
        {
          "output_type": "stream",
          "name": "stdout",
          "text": [
            "\n",
            "Columns in Fraud Data:\n",
            "Index(['user_id', 'signup_time', 'purchase_time', 'purchase_value',\n",
            "       'device_id', 'source', 'browser', 'sex', 'age', 'ip_address', 'class'],\n",
            "      dtype='object')\n"
          ]
        }
      ]
    },
    {
      "cell_type": "code",
      "source": [
        "# Visualize purchase values (purchase_value)\n",
        "plt.figure(figsize=(8, 5))\n",
        "sns.histplot(fraud_data_cleaned['purchase_value'], bins=30, kde=True)\n",
        "plt.title('Distribution of Purchase Values')\n",
        "plt.show()"
      ],
      "metadata": {
        "colab": {
          "base_uri": "https://localhost:8080/",
          "height": 487
        },
        "id": "2d1oA2JIl71M",
        "outputId": "752abb7b-c532-45ed-9be5-e15057951949"
      },
      "execution_count": 47,
      "outputs": [
        {
          "output_type": "display_data",
          "data": {
            "text/plain": [
              "<Figure size 800x500 with 1 Axes>"
            ],
            "image/png": "[encoded data removed]"
          },
          "metadata": {}
        }
      ]
    },
    {
      "cell_type": "code",
      "source": [
        "# Section: Correlation Heatmap (Only for Numerical Features)\n",
        "# Select only numeric columns for correlation\n",
        "numeric_cols = fraud_data_cleaned.select_dtypes(include=[np.number])\n",
        "\n",
        "# Check if there are any numerical columns available\n",
        "if not numeric_cols.empty:\n",
        "    plt.figure(figsize=(10, 6))\n",
        "    sns.heatmap(numeric_cols.corr(), annot=True, cmap='coolwarm')\n",
        "    plt.title('Correlation Heatmap (Numerical Features Only)')\n",
        "    plt.show()\n",
        "else:\n",
        "    print(\"No numerical columns available for correlation.\")"
      ],
      "metadata": {
        "colab": {
          "base_uri": "https://localhost:8080/",
          "height": 545
        },
        "id": "I8RsS0qpmAPt",
        "outputId": "4099196e-0078-4baa-84bd-02f276437749"
      },
      "execution_count": 49,
      "outputs": [
        {
          "output_type": "display_data",
          "data": {
            "text/plain": [
              "<Figure size 1000x600 with 2 Axes>"
            ],
            "image/png": "[encoded data removed]"
          },
          "metadata": {}
        }
      ]
    },
    {
      "cell_type": "code",
      "source": [
        "# Section 6: Geolocation Analysis (Merging Datasets)\n",
        "# Convert IP addresses in fraud data to numeric (assuming IPv4)\n",
        "fraud_data_cleaned['ip_numeric'] = fraud_data_cleaned['ip_address'].astype(float)\n",
        "\n",
        "# Assuming the relevant column in ip_data for IP address range is 'lower_bound_ip_address'\n",
        "merged_data = fraud_data_cleaned.merge(ip_data, how='left', left_on='ip_numeric', right_on='lower_bound_ip_address')\n"
      ],
      "metadata": {
        "id": "iktC2bMj3eut"
      },
      "execution_count": 61,
      "outputs": []
    },
    {
      "cell_type": "code",
      "source": [
        "# Section 7: Feature Engineering\n",
        "# Transaction frequency (number of transactions per user)\n",
        "transaction_freq = merged_data.groupby('user_id').size().reset_index(name='TransactionCount')"
      ],
      "metadata": {
        "id": "XPjCzUQB4Sik"
      },
      "execution_count": 62,
      "outputs": []
    },
    {
      "cell_type": "code",
      "source": [
        "# Velocity: Amount spent per hour\n",
        "merged_data['hour'] = merged_data['purchase_time'].dt.hour\n",
        "velocity = merged_data.groupby(['user_id', 'hour'])['purchase_value'].sum().reset_index(name='Velocity')"
      ],
      "metadata": {
        "id": "yHkfiquU4Zre"
      },
      "execution_count": 63,
      "outputs": []
    },
    {
      "cell_type": "code",
      "source": [
        "# Time-based features: hour_of_day and day_of_week\n",
        "merged_data['day_of_week'] = merged_data['purchase_time'].dt.day_name()\n",
        "merged_data['hour_of_day'] = merged_data['purchase_time'].dt.hour"
      ],
      "metadata": {
        "id": "pDCynNoc4dLU"
      },
      "execution_count": 64,
      "outputs": []
    },
    {
      "cell_type": "code",
      "source": [
        "# Section 8: Normalization and Scaling\n",
        "from sklearn.preprocessing import StandardScaler\n",
        "scaler = StandardScaler()\n",
        "merged_data['NormalizedAmount'] = scaler.fit_transform(merged_data[['purchase_value']])"
      ],
      "metadata": {
        "id": "Wks10uUl4gi-"
      },
      "execution_count": 67,
      "outputs": []
    },
    {
      "cell_type": "code",
      "source": [
        "# Section 9: Encode Categorical Features\n",
        "# One-hot encoding for categorical features (e.g., 'day_of_week')\n",
        "merged_data_encoded = pd.get_dummies(merged_data, columns=['day_of_week'], drop_first=True)"
      ],
      "metadata": {
        "id": "JAilbazs4y_N"
      },
      "execution_count": 68,
      "outputs": []
    },
    {
      "cell_type": "code",
      "source": [
        "# Section 10: Save Cleaned and Processed Data (Optional)\n",
        "# Save the processed data to a new CSV file\n",
        "merged_data_encoded.to_csv('Processed_Fraud_Data.csv', index=False)\n",
        "\n",
        "print(\"\\nProcessing Complete. Cleaned data saved as 'Processed_Fraud_Data.csv'.\")"
      ],
      "metadata": {
        "colab": {
          "base_uri": "https://localhost:8080/"
        },
        "id": "he3UNwFY5THL",
        "outputId": "28bf63d5-952d-4aa9-a97c-d1c95d7e51b9"
      },
      "execution_count": 69,
      "outputs": [
        {
          "output_type": "stream",
          "name": "stdout",
          "text": [
            "\n",
            "Processing Complete. Cleaned data saved as 'Processed_Fraud_Data.csv'.\n"
          ]
        }
      ]
    },
    {
      "cell_type": "code",
      "source": [
        "files.download('Processed_Fraud_Data.csv')"
      ],
      "metadata": {
        "colab": {
          "base_uri": "https://localhost:8080/",
          "height": 17
        },
        "id": "YYdH9DoA52ta",
        "outputId": "07870230-74eb-4f2f-b18f-3b36149fd45f"
      },
      "execution_count": 71,
      "outputs": [
        {
          "output_type": "display_data",
          "data": {
            "text/plain": [
              "<IPython.core.display.Javascript object>"
            ],
            "application/javascript": [
              "\n",
              "    async function download(id, filename, size) {\n",
              "      if (!google.colab.kernel.accessAllowed) {\n",
              "        return;\n",
              "      }\n",
              "      const div = document.createElement('div');\n",
              "      const label = document.createElement('label');\n",
              "      label.textContent = `Downloading \"${filename}\": `;\n",
              "      div.appendChild(label);\n",
              "      const progress = document.createElement('progress');\n",
              "      progress.max = size;\n",
              "      div.appendChild(progress);\n",
              "      document.body.appendChild(div);\n",
              "\n",
              "      const buffers = [];\n",
              "      let downloaded = 0;\n",
              "\n",
              "      const channel = await google.colab.kernel.comms.open(id);\n",
              "      // Send a message to notify the kernel that we're ready.\n",
              "      channel.send({})\n",
              "\n",
              "      for await (const message of channel.messages) {\n",
              "        // Send a message to notify the kernel that we're ready.\n",
              "        channel.send({})\n",
              "        if (message.buffers) {\n",
              "          for (const buffer of message.buffers) {\n",
              "            buffers.push(buffer);\n",
              "            downloaded += buffer.byteLength;\n",
              "            progress.value = downloaded;\n",
              "          }\n",
              "        }\n",
              "      }\n",
              "      const blob = new Blob(buffers, {type: 'application/binary'});\n",
              "      const a = document.createElement('a');\n",
              "      a.href = window.URL.createObjectURL(blob);\n",
              "      a.download = filename;\n",
              "      div.appendChild(a);\n",
              "      a.click();\n",
              "      div.remove();\n",
              "    }\n",
              "  "
            ]
          },
          "metadata": {}
        },
        {
          "output_type": "display_data",
          "data": {
            "text/plain": [
              "<IPython.core.display.Javascript object>"
            ],
            "application/javascript": [
              "download(\"download_21f29e5a-6c40-4d85-8628-a76322677013\", \"Processed_Fraud_Data.csv\", 26929752)"
            ]
          },
          "metadata": {}
        }
      ]
    }
  ],
  "metadata": {
    "colab": {
      "provenance": []
    },
    "kernelspec": {
      "display_name": "Python 3",
      "name": "python3"
    },
    "language_info": {
      "name": "python"
    }
  },
  "nbformat": 4,
  "nbformat_minor": 0
}