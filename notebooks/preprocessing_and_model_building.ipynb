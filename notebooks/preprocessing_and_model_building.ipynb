{
  "nbformat": 4,
  "nbformat_minor": 0,
  "metadata": {
    "colab": {
      "provenance": []
    },
    "kernelspec": {
      "name": "python3",
      "display_name": "Python 3"
    },
    "language_info": {
      "name": "python"
    }
  },
  "cells": [
    {
      "cell_type": "code",
      "source": [
        "import pandas as pd\n",
        "import numpy as np\n",
        "import matplotlib.pyplot as plt\n",
        "import seaborn as sns\n",
        "from sklearn.model_selection import train_test_split\n",
        "from sklearn.ensemble import RandomForestClassifier\n",
        "from sklearn.metrics import classification_report, confusion_matrix, accuracy_score\n",
        "import mlflow\n",
        "import mlflow.sklearn\n",
        "import pickle\n",
        "import os"
      ],
      "metadata": {
        "id": "IEohuV5-0S9n"
      },
      "execution_count": null,
      "outputs": []
    },
    {
      "cell_type": "code",
      "source": [
        "# Section 2: Load Data Files\n",
        "# Prompt user to upload datasets manually from Drive\n",
        "from google.colab import files\n",
        "\n",
        "print(\"Upload 'Fraud_Data.csv'\")\n",
        "fraud_file = files.upload()\n",
        "\n",
        "print(\"Upload 'IpAddress_to_Country.csv'\")\n",
        "ip_file = files.upload()"
      ],
      "metadata": {
        "id": "sxGcJGMj6C3T"
      },
      "execution_count": null,
      "outputs": []
    },
    {
      "cell_type": "code",
      "source": [
        "# Load datasets into DataFrames\n",
        "fraud_data = pd.read_csv('Fraud_Data.csv')\n",
        "ip_data = pd.read_csv('IpAddress_to_Country.csv')"
      ],
      "metadata": {
        "id": "gwqh0_Za6G3S"
      },
      "execution_count": null,
      "outputs": []
    },
    {
      "cell_type": "code",
      "source": [
        "# Section 3: Data Preprocessing\n",
        "# Display first few rows of the fraud data\n",
        "print(\"Fraud Data Sample:\")\n",
        "print(fraud_data.head())"
      ],
      "metadata": {
        "id": "IG1l1dlw6I_D"
      },
      "execution_count": null,
      "outputs": []
    },
    {
      "cell_type": "code",
      "source": [
        "# Check for missing values\n",
        "print(\"\\nMissing values:\")\n",
        "print(fraud_data.isnull().sum())"
      ],
      "metadata": {
        "id": "G00stCho6M6q"
      },
      "execution_count": null,
      "outputs": []
    },
    {
      "cell_type": "code",
      "source": [
        "# Fill or drop missing values if needed\n",
        "fraud_data = fraud_data.fillna(0)"
      ],
      "metadata": {
        "id": "0aPEBbT26O0y"
      },
      "execution_count": null,
      "outputs": []
    },
    {
      "cell_type": "code",
      "source": [
        "# Encode categorical columns if any\n",
        "fraud_data = pd.get_dummies(fraud_data, drop_first=True)"
      ],
      "metadata": {
        "id": "MzV-5XrX6Qeq"
      },
      "execution_count": null,
      "outputs": []
    },
    {
      "cell_type": "code",
      "source": [
        "# Display IP address data\n",
        "print(\"\\nIP Address Data Sample:\")\n",
        "print(ip_data.head())"
      ],
      "metadata": {
        "id": "xzAKzEug6Ssq"
      },
      "execution_count": null,
      "outputs": []
    },
    {
      "cell_type": "code",
      "source": [
        "# Section 4: Feature Selection\n",
        "X = fraud_data.drop(['is_fraud'], axis=1)  # Features\n",
        "y = fraud_data['is_fraud']  # Target"
      ],
      "metadata": {
        "id": "M_Bjh68u6UYi"
      },
      "execution_count": null,
      "outputs": []
    },
    {
      "cell_type": "code",
      "source": [
        "# Split the data into training and testing sets\n",
        "X_train, X_test, y_train, y_test = train_test_split(X, y, test_size=0.3, random_state=42)"
      ],
      "metadata": {
        "id": "s1rt8waX6Xoh"
      },
      "execution_count": null,
      "outputs": []
    },
    {
      "cell_type": "code",
      "source": [
        "# Section 5: Train the RandomForest Model\n",
        "# Initialize RandomForest Classifier\n",
        "rf_model = RandomForestClassifier(n_estimators=100, random_state=42)"
      ],
      "metadata": {
        "id": "J020TnU06Ziy"
      },
      "execution_count": null,
      "outputs": []
    },
    {
      "cell_type": "code",
      "source": [
        "# Train the model\n",
        "rf_model.fit(X_train, y_train)"
      ],
      "metadata": {
        "id": "95uJaDhw6cWS"
      },
      "execution_count": null,
      "outputs": []
    },
    {
      "cell_type": "code",
      "source": [
        "# Predict on the test data\n",
        "y_pred = rf_model.predict(X_test)"
      ],
      "metadata": {
        "id": "lmUFSvOd6e1E"
      },
      "execution_count": null,
      "outputs": []
    },
    {
      "cell_type": "code",
      "source": [
        "# Section 6: Evaluate the Model\n",
        "# Calculate accuracy\n",
        "accuracy = accuracy_score(y_test, y_pred)\n",
        "print(f\"Accuracy: {accuracy:.2f}\")"
      ],
      "metadata": {
        "id": "ztdpnVZg6gWz"
      },
      "execution_count": null,
      "outputs": []
    },
    {
      "cell_type": "code",
      "source": [
        "# Display confusion matrix\n",
        "conf_matrix = confusion_matrix(y_test, y_pred)\n",
        "sns.heatmap(conf_matrix, annot=True, cmap='Blues', fmt='d')\n",
        "plt.title('Confusion Matrix')\n",
        "plt.show()"
      ],
      "metadata": {
        "id": "MyFEIz-B6jQq"
      },
      "execution_count": null,
      "outputs": []
    },
    {
      "cell_type": "code",
      "source": [
        "# Display classification report\n",
        "class_report = classification_report(y_test, y_pred)\n",
        "print(\"\\nClassification Report:\")\n",
        "print(class_report)"
      ],
      "metadata": {
        "id": "YgraRZrl6k_h"
      },
      "execution_count": null,
      "outputs": []
    },
    {
      "cell_type": "code",
      "source": [
        "# Section 7: Log with MLflow\n",
        "mlflow.set_experiment(\"Fraud Detection\")\n",
        "\n",
        "with mlflow.start_run() as run:\n",
        "    # Log model parameters\n",
        "    mlflow.log_param(\"n_estimators\", 100)\n",
        "    mlflow.log_param(\"random_state\", 42)\n",
        "\n",
        "    # Log metrics\n",
        "    mlflow.log_metric(\"accuracy\", accuracy)\n",
        "\n",
        "    # Save and log model\n",
        "    model_path = \"fraud_detection_model.pkl\"\n",
        "    with open(model_path, 'wb') as f:\n",
        "        pickle.dump(rf_model, f)\n",
        "    mlflow.sklearn.log_model(rf_model, \"model\")\n",
        "\n",
        "print(f\"MLflow run ID: {run.info.run_id}\")\n"
      ],
      "metadata": {
        "id": "BnPZHcM46m3a"
      },
      "execution_count": null,
      "outputs": []
    },
    {
      "cell_type": "code",
      "source": [
        "# Section 8: Save Trained Model Locally\n",
        "# Download the model to local machine\n",
        "files.download(model_path)\n",
        "\n",
        "print(\"Model saved and downloaded successfully!\")"
      ],
      "metadata": {
        "id": "4VD2cX_26rKc"
      },
      "execution_count": null,
      "outputs": []
    }
  ]
}